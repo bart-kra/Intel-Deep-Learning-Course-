{
  "nbformat": 4,
  "nbformat_minor": 0,
  "metadata": {
    "colab": {
      "name": "IDL-BackPropagation.ipynb",
      "provenance": [],
      "authorship_tag": "ABX9TyN4rRaIEBujnWHolLgYkiQk"
    },
    "kernelspec": {
      "name": "python3",
      "display_name": "Python 3"
    },
    "language_info": {
      "name": "python"
    }
  },
  "cells": [
    {
      "cell_type": "code",
      "execution_count": 1,
      "metadata": {
        "id": "HDJDK79e55yR"
      },
      "outputs": [],
      "source": [
        "#Preliminaries\n",
        "from __future__ import division, print_function\n",
        "import numpy as np\n",
        "import matplotlib.pyplot as plt\n",
        "%matplotlib inline"
      ]
    },
    {
      "cell_type": "code",
      "source": [
        ""
      ],
      "metadata": {
        "id": "NOhjECZn5_56"
      },
      "execution_count": null,
      "outputs": []
    }
  ]
}