{
  "nbformat": 4,
  "nbformat_minor": 0,
  "metadata": {
    "colab": {
      "name": "IntelDL.ipynb",
      "provenance": [],
      "authorship_tag": "ABX9TyOknTKu5QQPqkNVmIEBVMHp"
    },
    "kernelspec": {
      "name": "python3",
      "display_name": "Python 3"
    },
    "language_info": {
      "name": "python"
    }
  },
  "cells": [
    {
      "cell_type": "code",
      "execution_count": null,
      "metadata": {
        "id": "_h9eACtmQIO3"
      },
      "outputs": [],
      "source": [
        ""
      ]
    }
  ]
}