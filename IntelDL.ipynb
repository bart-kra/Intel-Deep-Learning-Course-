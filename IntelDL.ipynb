{
  "nbformat": 4,
  "nbformat_minor": 0,
  "metadata": {
    "colab": {
      "name": "IntelDL.ipynb",
      "provenance": [],
      "authorship_tag": "ABX9TyOFX8mpM/VEgBgyaU1Tbo3A"
    },
    "kernelspec": {
      "name": "python3",
      "display_name": "Python 3"
    },
    "language_info": {
      "name": "python"
    }
  },
  "cells": [
    {
      "cell_type": "markdown",
      "source": [
        "# Neurons as logic gates\n"
      ],
      "metadata": {
        "id": "4VUCfdNi_-1K"
      }
    },
    {
      "cell_type": "code",
      "source": [
        "import numpy as np\n",
        "import matplotlib.pyplot as plt\n",
        "%matplotlib inline"
      ],
      "metadata": {
        "id": "DfFDUceCASz0"
      },
      "execution_count": 172,
      "outputs": []
    },
    {
      "cell_type": "markdown",
      "source": [
        "**Sigmoid function**\n"
      ],
      "metadata": {
        "id": "QernPL4bAHqh"
      }
    },
    {
      "cell_type": "code",
      "execution_count": 173,
      "metadata": {
        "id": "_h9eACtmQIO3"
      },
      "outputs": [],
      "source": [
        "#Define the sigmoid function\n",
        "def sigmoid(x):\n",
        "  \"\"\"Sigmoid function\"\"\"\n",
        "  return 1.0 / (1.0 + np.exp(-x))"
      ]
    },
    {
      "cell_type": "code",
      "source": [
        "#Plot the sigmoid function\n",
        "vals = np.linspace(-10, 10, num=100, dtype=np.float32)\n",
        "activation = sigmoid(vals)\n",
        "fig = plt.figure(figsize=(12,6))\n",
        "plt.plot(vals, activation)\n",
        "plt.grid(True, which='both')\n",
        "plt.axhline(y=0, color='k')\n",
        "plt.axvline(x=0, color='k')\n",
        "plt.yticks()\n",
        "plt.ylim([-0.5, 1.5]);"
      ],
      "metadata": {
        "colab": {
          "base_uri": "https://localhost:8080/",
          "height": 378
        },
        "id": "MyiueyO9AmPG",
        "outputId": "19d18334-5278-4f73-bbef-739e1745a1c1"
      },
      "execution_count": 174,
      "outputs": [
        {
          "output_type": "display_data",
          "data": {
            "text/plain": [
              "<Figure size 864x432 with 1 Axes>"
            ],
            "image/png": "[encoded data removed]"
          },
          "metadata": {
            "needs_background": "light"
          }
        }
      ]
    },
    {
      "cell_type": "markdown",
      "source": [
        "**Sigmoid as OR, AND, NOR and NAND gate**\n"
      ],
      "metadata": {
        "id": "5ydIKvmKCQmU"
      }
    },
    {
      "cell_type": "markdown",
      "source": [
        "How to choose weights and bias to gate works properly. OR - if both inputs are 0 -> sig(z) = 0, if any of input is 1 -> sig(z) = 1"
      ],
      "metadata": {
        "id": "SV2FEvDQCcXq"
      }
    },
    {
      "cell_type": "code",
      "source": [
        "def logic_gate(w1, w2, b):\n",
        "  #helper to create logic gate functions\n",
        "  #plug in values for weights and bias\n",
        "  return lambda x1, x2: sigmoid(w1 * x1 + w2 * x2 + b)\n",
        "\n",
        "def test_gate(gate):\n",
        "  #helper function to test the weight function\n",
        "  for a,b in (0,0), (0,1), (1,0), (1,1):\n",
        "    print(\"{}, {}: {}\".format(a, b, np.round(gate(a, b))))"
      ],
      "metadata": {
        "id": "PW1mUGEwAuDa"
      },
      "execution_count": 175,
      "outputs": []
    },
    {
      "cell_type": "code",
      "source": [
        "or_gate = logic_gate(20, 20, -10)\n",
        "test_gate(or_gate)"
      ],
      "metadata": {
        "colab": {
          "base_uri": "https://localhost:8080/"
        },
        "id": "cRNCrlOgDOuv",
        "outputId": "8410272f-cce4-46bf-cc8e-7f9aa1cb7bbe"
      },
      "execution_count": 176,
      "outputs": [
        {
          "output_type": "stream",
          "name": "stdout",
          "text": [
            "0, 0: 0.0\n",
            "0, 1: 1.0\n",
            "1, 0: 1.0\n",
            "1, 1: 1.0\n"
          ]
        }
      ]
    },
    {
      "cell_type": "markdown",
      "source": [
        "AND - if both or one of inputs is 0 -> sig(z) = 0, if both of them are 1 -> sig(z) = 1"
      ],
      "metadata": {
        "id": "6s0w0yAGD472"
      }
    },
    {
      "cell_type": "code",
      "source": [
        "and_gate = logic_gate(15, 15, -20)\n",
        "test_gate(and_gate)"
      ],
      "metadata": {
        "colab": {
          "base_uri": "https://localhost:8080/"
        },
        "id": "ODgcPsJqDzIo",
        "outputId": "633a2420-c689-4e47-83cb-8c10ee1903a0"
      },
      "execution_count": 177,
      "outputs": [
        {
          "output_type": "stream",
          "name": "stdout",
          "text": [
            "0, 0: 0.0\n",
            "0, 1: 0.0\n",
            "1, 0: 0.0\n",
            "1, 1: 1.0\n"
          ]
        }
      ]
    },
    {
      "cell_type": "markdown",
      "source": [
        "NOR - any of inputs cannot be 1 to return sig(z) = 1"
      ],
      "metadata": {
        "id": "Gc9g1JLUEZTj"
      }
    },
    {
      "cell_type": "code",
      "source": [
        "nor_gate = logic_gate(-20, -20, 10)\n",
        "test_gate(nor_gate)"
      ],
      "metadata": {
        "colab": {
          "base_uri": "https://localhost:8080/"
        },
        "id": "NP-pHaHCEUAG",
        "outputId": "65672120-ecf8-479f-e112-9d72313112a9"
      },
      "execution_count": 178,
      "outputs": [
        {
          "output_type": "stream",
          "name": "stdout",
          "text": [
            "0, 0: 1.0\n",
            "0, 1: 0.0\n",
            "1, 0: 0.0\n",
            "1, 1: 0.0\n"
          ]
        }
      ]
    },
    {
      "cell_type": "markdown",
      "source": [
        "NAND - only if both inputs are 1 sig(z) = 0"
      ],
      "metadata": {
        "id": "1Q1GFZF1E6UI"
      }
    },
    {
      "cell_type": "code",
      "source": [
        "nand_gate = logic_gate(-20, -20, 30)\n",
        "test_gate(nand_gate)"
      ],
      "metadata": {
        "colab": {
          "base_uri": "https://localhost:8080/"
        },
        "id": "LadY9ja0Etse",
        "outputId": "2f818eb7-cf7d-4f65-bd1f-ece1c9f96823"
      },
      "execution_count": 179,
      "outputs": [
        {
          "output_type": "stream",
          "name": "stdout",
          "text": [
            "0, 0: 1.0\n",
            "0, 1: 1.0\n",
            "1, 0: 1.0\n",
            "1, 1: 0.0\n"
          ]
        }
      ]
    },
    {
      "cell_type": "markdown",
      "source": [
        "XOR gate is impossible to perform using single neuron so we are made to use something more complex:"
      ],
      "metadata": {
        "id": "0STmdiSwF7cV"
      }
    },
    {
      "cell_type": "code",
      "source": [
        "def xor_gate(a, b):\n",
        "  c = or_gate(a, b)\n",
        "  d = nand_gate(a, b)\n",
        "  return and_gate(c, d)\n",
        "test_gate(xor_gate)\n"
      ],
      "metadata": {
        "colab": {
          "base_uri": "https://localhost:8080/"
        },
        "id": "rS9VZgy-FVn2",
        "outputId": "815b7c6d-b6b0-44ba-85a8-4519d01f3d71"
      },
      "execution_count": 180,
      "outputs": [
        {
          "output_type": "stream",
          "name": "stdout",
          "text": [
            "0, 0: 0.0\n",
            "0, 1: 1.0\n",
            "1, 0: 1.0\n",
            "1, 1: 0.0\n"
          ]
        }
      ]
    },
    {
      "cell_type": "markdown",
      "source": [
        "**Exercise**"
      ],
      "metadata": {
        "id": "jQOAojPVJXv0"
      }
    },
    {
      "cell_type": "markdown",
      "source": [
        "Provided below are the following:\n",
        "\n",
        "Three weight matrices W_1, W_2 and W_3 representing the weights in each layer. The convention for these matrices is that each  Wi,j  gives the weight from neuron  i  in the previous (left) layer to neuron  j  in the next (right) layer.\n",
        "A vector x_in representing a single input and a matrix x_mat_in representing 7 different inputs.\n",
        "Two functions: soft_max_vec and soft_max_mat which apply the soft_max function to a single vector, and row-wise to a matrix.\n",
        "The goals for this exercise are:\n",
        "\n",
        "For input x_in calculate the inputs and outputs to each layer (assuming sigmoid activations for the middle two layers and soft_max output for the final layer.\n",
        "Write a function that does the entire neural network calculation for a single input\n",
        "Write a function that does the entire neural network calculation for a matrix of inputs, where each row is a single input.\n",
        "Test your functions on x_in and x_mat_in."
      ],
      "metadata": {
        "id": "rS6jGcG5LBx0"
      }
    },
    {
      "cell_type": "code",
      "source": [
        "#INITIALIZE WEIGHTS ARRAYS FOR EACH LAYER\n",
        "W_1 = np.array([[2,-1,1,4],[-1,2,-3,1],[3,-2,-1,5]])\n",
        "W_2 = np.array([[3,1,-2,1],[-2,4,1,-4],[-1,-3,2,-5],[3,1,1,1]])\n",
        "W_3 = np.array([[-1,3,-2],[1,-1,-3],[3,-2,2],[1,2,1]])"
      ],
      "metadata": {
        "id": "r6h7iQp-DMZf"
      },
      "execution_count": 182,
      "outputs": []
    },
    {
      "cell_type": "code",
      "source": [
        "#CREATE SIMPLE, SINGLE INPUT VECTOR\n",
        "x_in = np.array([0.5, 0.8, 0.2])\n",
        "x_in"
      ],
      "metadata": {
        "colab": {
          "base_uri": "https://localhost:8080/"
        },
        "id": "l04JgmSB0dbQ",
        "outputId": "ddbc0e5c-b399-450e-9212-a4b53e1e6a47"
      },
      "execution_count": 183,
      "outputs": [
        {
          "output_type": "execute_result",
          "data": {
            "text/plain": [
              "array([0.5, 0.8, 0.2])"
            ]
          },
          "metadata": {},
          "execution_count": 183
        }
      ]
    },
    {
      "cell_type": "code",
      "source": [
        "#CREATE BUNCH OF INPUT VECTORS MATRIX\n",
        "x_mat_in = np.array([[0.5, 0.8, 0.2], [0.1, 0.9, 0.6], [0.2, 0.2, 0.3], [0.6, 0.1, 0.9], [0.5, 0.5, 0.4], [0.9, 0.1, 0.9], [0.1, 0.8, 0.7]])\n",
        "x_mat_in"
      ],
      "metadata": {
        "colab": {
          "base_uri": "https://localhost:8080/"
        },
        "id": "32zbLlBD0rKT",
        "outputId": "28330965-c4f4-426b-ffe0-84797293d52c"
      },
      "execution_count": 184,
      "outputs": [
        {
          "output_type": "execute_result",
          "data": {
            "text/plain": [
              "array([[0.5, 0.8, 0.2],\n",
              "       [0.1, 0.9, 0.6],\n",
              "       [0.2, 0.2, 0.3],\n",
              "       [0.6, 0.1, 0.9],\n",
              "       [0.5, 0.5, 0.4],\n",
              "       [0.9, 0.1, 0.9],\n",
              "       [0.1, 0.8, 0.7]])"
            ]
          },
          "metadata": {},
          "execution_count": 184
        }
      ]
    },
    {
      "cell_type": "code",
      "source": [
        "#SOFTMAX FUNCTIONS FOR BOTH VECTORS AND MATRIXES\n",
        "def softmax_vec(vec):\n",
        "  return np.exp(vec)/(np.sum(np.exp(vec)))\n",
        "\n",
        "def softmax_mat(mat):\n",
        "  return np.exp(mat)/(np.sum(np.exp(mat),axis=1).reshape(-1,1))"
      ],
      "metadata": {
        "id": "LSkPms8w1eyH"
      },
      "execution_count": 239,
      "outputs": []
    },
    {
      "cell_type": "code",
      "source": [
        "softmax_vec(x_in)"
      ],
      "metadata": {
        "colab": {
          "base_uri": "https://localhost:8080/"
        },
        "id": "TqTi4Lk02kYa",
        "outputId": "28de85f3-cb69-493c-dc94-ea73d0f9399f"
      },
      "execution_count": 240,
      "outputs": [
        {
          "output_type": "execute_result",
          "data": {
            "text/plain": [
              "array([0.3235537 , 0.43675182, 0.23969448])"
            ]
          },
          "metadata": {},
          "execution_count": 240
        }
      ]
    },
    {
      "cell_type": "code",
      "source": [
        "softmax_mat(x_mat_in)"
      ],
      "metadata": {
        "colab": {
          "base_uri": "https://localhost:8080/"
        },
        "id": "l2iCHNMo2nET",
        "outputId": "060d55ee-2bdb-4c75-d652-ab517866ff4e"
      },
      "execution_count": 241,
      "outputs": [
        {
          "output_type": "execute_result",
          "data": {
            "text/plain": [
              "array([[0.3235537 , 0.43675182, 0.23969448],\n",
              "       [0.20515925, 0.45659032, 0.33825043],\n",
              "       [0.32204346, 0.32204346, 0.35591307],\n",
              "       [0.33825043, 0.20515925, 0.45659032],\n",
              "       [0.34425335, 0.34425335, 0.31149331],\n",
              "       [0.40827509, 0.18344982, 0.40827509],\n",
              "       [0.20678796, 0.41641981, 0.37679223]])"
            ]
          },
          "metadata": {},
          "execution_count": 241
        }
      ]
    },
    {
      "cell_type": "code",
      "source": [
        "sigmoid(x_in)"
      ],
      "metadata": {
        "colab": {
          "base_uri": "https://localhost:8080/"
        },
        "id": "Jf93zUgL2pdk",
        "outputId": "3c4371ae-b619-4743-889b-e8b7b1c46be0"
      },
      "execution_count": 188,
      "outputs": [
        {
          "output_type": "execute_result",
          "data": {
            "text/plain": [
              "array([0.62245933, 0.68997448, 0.549834  ])"
            ]
          },
          "metadata": {},
          "execution_count": 188
        }
      ]
    },
    {
      "cell_type": "code",
      "source": [
        "def layer_sigmoid_vec(vec,w1):\n",
        "  '''TAKES THE INPUT VECTOR FOR EACH LAYER AND RETURNS VECTOR OF SIGMOID VALUES'''\n",
        "  x = np.shape(vec)[0] #number of x for each input\n",
        "  y = np.shape(w1)[1] #number of neurons in each layer\n",
        "  layer_result = np.zeros([y]) #empty array of results\n",
        "  for i in range(0, x):\n",
        "    for j in range(0, y):\n",
        "      layer_result[j] += vec.item(i)*w1.item(i,j) #assign neuron sum to a vector\n",
        "  return sigmoid(layer_result) #execute sigmoid func in output vector\n"
      ],
      "metadata": {
        "id": "21hJ_jWS3rEx"
      },
      "execution_count": 260,
      "outputs": []
    },
    {
      "cell_type": "code",
      "source": [
        "def layer_softmax_vec(vec,w):\n",
        "  '''TAKES THE INPUT VECTOR FOR EACH LAYER AND RETURNS VECTOR OF SOFTMAX VALUES'''\n",
        "  x = np.shape(vec)[0] #number of x for each input\n",
        "  y = np.shape(w)[1] #number of neurons in each layer\n",
        "  layer_result = np.zeros([y]) #empty array of results\n",
        "  for i in range(0, x):\n",
        "    for j in range(0, y):\n",
        "      layer_result[j] += vec.item(i)*w.item(i,j) #assign neuron sum to a vector\n",
        "  return softmax_vec(layer_result) #execute softmax func in output vector"
      ],
      "metadata": {
        "id": "wDgHXzRlkWZU"
      },
      "execution_count": 261,
      "outputs": []
    },
    {
      "cell_type": "code",
      "source": [
        "def neural_net_vec(vec, w1, w2, w3):\n",
        "  '''WHOLE NEURAL NET COMPUTATION RETURNS VECTOR OF SOFTMAX VALUES'''\n",
        "  print('Input vector: {}'.format(vec))\n",
        "  result_l1 = layer_sigmoid_vec(vec, w1)\n",
        "  result_l2 = layer_sigmoid_vec(result_l1, w2)\n",
        "  result_l3 = layer_softmax_vec(result_l2, w3)\n",
        "  print('Output vector: {}'.format(result_l3))\n",
        "  return(result_l3)"
      ],
      "metadata": {
        "id": "YIAN3xDRmOfN"
      },
      "execution_count": 275,
      "outputs": []
    },
    {
      "cell_type": "code",
      "source": [
        "result = neural_net_vec(x_in, W_1, W_2, W_3)"
      ],
      "metadata": {
        "colab": {
          "base_uri": "https://localhost:8080/"
        },
        "id": "WFNIKiQZnNVp",
        "outputId": "061a3b04-e3f1-4f3d-c3ce-f39fda2b0e97"
      },
      "execution_count": 276,
      "outputs": [
        {
          "output_type": "stream",
          "name": "stdout",
          "text": [
            "Input vector: [0.5 0.8 0.2]\n",
            "Output vector: [0.72780576 0.26927918 0.00291506]\n"
          ]
        }
      ]
    },
    {
      "cell_type": "code",
      "source": [
        "def layer_sigmoid_mat(mat,w1):\n",
        "  '''TAKES THE INPUT MATRIX FOR EACH LAYER AND RETURNS VECTOR OF SIGMOID VALUES'''\n",
        "  x = np.shape(mat)[1] #number of x for each input\n",
        "  y = np.shape(w1)[1] #number of neurons in each layer\n",
        "  z = np.shape(mat)[0] #number of inputs (vectors)\n",
        "  layer_result = np.zeros([z, y]) #empty array of results\n",
        "  for k in range(0, z):\n",
        "    for i in range(0, x):\n",
        "      for j in range(0, y):\n",
        "        layer_result[k,j] += mat.item(k,i)*w1.item(i,j) #assign neuron sum to an array\n",
        "  return sigmoid(layer_result) #execute softmax func in output array"
      ],
      "metadata": {
        "id": "iSAzqod_nZ2R"
      },
      "execution_count": 284,
      "outputs": []
    },
    {
      "cell_type": "code",
      "source": [
        "def layer_softmax_mat(mat,w1):\n",
        "  '''TAKES THE INPUT MATRIX FOR EACH LAYER AND RETURNS VECTOR OF SOFTMAX VALUES'''\n",
        "  x = np.shape(mat)[1] #number of x for each input\n",
        "  y = np.shape(w1)[1] #number of neurons in each layer\n",
        "  z = np.shape(mat)[0] #number of inputs (vectors)\n",
        "  layer_result = np.zeros([z, y]) #empty array of results\n",
        "  for k in range(0, z):\n",
        "    for i in range(0, x):\n",
        "      for j in range(0, y):\n",
        "        layer_result[k,j] += mat.item(k,i)*w1.item(i,j) #assign neuron sum to an array\n",
        "  return softmax_mat(layer_result) #execute softmax func in output array"
      ],
      "metadata": {
        "id": "GE-hnU1CpiQL"
      },
      "execution_count": 285,
      "outputs": []
    },
    {
      "cell_type": "code",
      "source": [
        "def neural_net_mat(mat, w1, w2, w3):\n",
        "  '''WHOLE NEURAL NET COMPUTATION RETURNS ARRAY OF SOFTMAX VALUES'''\n",
        "  print('Input matrix: \\n{}'.format(mat))\n",
        "  result_l1 = layer_sigmoid_mat(mat, w1)\n",
        "  result_l2 = layer_sigmoid_mat(result_l1, w2)\n",
        "  result_l3 = layer_softmax_mat(result_l2, w3)\n",
        "  print('Output matrix: \\n{}'.format(result_l3))\n",
        "  return(result_l3)"
      ],
      "metadata": {
        "id": "WnB98eJYp_Ta"
      },
      "execution_count": 286,
      "outputs": []
    },
    {
      "cell_type": "code",
      "source": [
        "result_mat = neural_net_mat(x_mat_in, W_1, W_2, W_3)"
      ],
      "metadata": {
        "colab": {
          "base_uri": "https://localhost:8080/"
        },
        "id": "lDpaRioAoXqJ",
        "outputId": "4dc55a4b-5678-490d-871f-e9d642de7636"
      },
      "execution_count": 287,
      "outputs": [
        {
          "output_type": "stream",
          "name": "stdout",
          "text": [
            "Input matrix: \n",
            "[[0.5 0.8 0.2]\n",
            " [0.1 0.9 0.6]\n",
            " [0.2 0.2 0.3]\n",
            " [0.6 0.1 0.9]\n",
            " [0.5 0.5 0.4]\n",
            " [0.9 0.1 0.9]\n",
            " [0.1 0.8 0.7]]\n",
            "Output matrix: \n",
            "[[0.72780576 0.26927918 0.00291506]\n",
            " [0.62054212 0.37682531 0.00263257]\n",
            " [0.69267581 0.30361576 0.00370844]\n",
            " [0.36618794 0.63016955 0.00364252]\n",
            " [0.57199769 0.4251982  0.00280411]\n",
            " [0.38373781 0.61163804 0.00462415]\n",
            " [0.52510443 0.4725011  0.00239447]]\n"
          ]
        }
      ]
    },
    {
      "cell_type": "code",
      "source": [
        ""
      ],
      "metadata": {
        "id": "qGwcbfanqXQh"
      },
      "execution_count": null,
      "outputs": []
    }
  ]
}